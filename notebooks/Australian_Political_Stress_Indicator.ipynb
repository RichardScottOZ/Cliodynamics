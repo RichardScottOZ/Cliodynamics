{
 "cells": [
  {
   "cell_type": "code",
   "execution_count": 1,
<<<<<<< HEAD
=======
   "id": "7950bce3",
>>>>>>> 3b2a3089b320b89591f6fb0cdb1f464c84e2e100
   "metadata": {},
   "outputs": [],
   "source": [
    "import pandas as pd\n",
    "import numpy as np\n",
    "import matplotlib.pyplot as plt\n",
    "from sklearn.linear_model import LinearRegression"
   ]
  },
  {
   "cell_type": "code",
   "execution_count": null,
<<<<<<< HEAD
=======
   "id": "bd50fce6",
>>>>>>> 3b2a3089b320b89591f6fb0cdb1f464c84e2e100
   "metadata": {},
   "outputs": [],
   "source": []
  }
 ],
 "metadata": {
  "kernelspec": {
<<<<<<< HEAD
   "display_name": "Python [conda env:pangeo3]",
=======
   "display_name": "Python [conda env:pangeo3] *",
>>>>>>> 3b2a3089b320b89591f6fb0cdb1f464c84e2e100
   "language": "python",
   "name": "conda-env-pangeo3-py"
  },
  "language_info": {
   "codemirror_mode": {
    "name": "ipython",
    "version": 3
   },
   "file_extension": ".py",
   "mimetype": "text/x-python",
   "name": "python",
   "nbconvert_exporter": "python",
   "pygments_lexer": "ipython3",
   "version": "3.8.6"
  }
 },
 "nbformat": 4,
 "nbformat_minor": 5
}
